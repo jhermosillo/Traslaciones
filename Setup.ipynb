{
 "metadata": {
  "language_info": {
   "codemirror_mode": {
    "name": "ipython",
    "version": 3
   },
   "file_extension": ".py",
   "mimetype": "text/x-python",
   "name": "python",
   "nbconvert_exporter": "python",
   "pygments_lexer": "ipython3",
   "version": "3.8.5"
  },
  "orig_nbformat": 2,
  "kernelspec": {
   "name": "python385jvsc74a57bd031f2aee4e71d21fbe5cf8b01ff0e069b9275f58929596ceb00d14d90e3e16cd6",
   "display_name": "Python 3.8.5 64-bit"
  },
  "metadata": {
   "interpreter": {
    "hash": "916dbcbb3f70747c44a77c7bcd40155683ae19c65e1c03b4aa3499c5328201f1"
   }
  }
 },
 "nbformat": 4,
 "nbformat_minor": 2,
 "cells": [
  {
   "cell_type": "code",
   "execution_count": 1,
   "metadata": {},
   "outputs": [],
   "source": [
    "from gensim.models import Word2Vec\n",
    "from numba import jit\n",
    "import numpy as np"
   ]
  },
  {
   "cell_type": "code",
   "execution_count": 13,
   "metadata": {},
   "outputs": [],
   "source": [
    "# FUNCION QUE CALCULA LA SIMILITUD COSENO DE FORMA RÁPIDA\n",
    "\n",
    "@jit(nopython=True)\n",
    "def cosine_similarity(u:np.ndarray, v:np.ndarray):\n",
    "    assert(u.shape[0] == v.shape[0])\n",
    "    uv = 0\n",
    "    uu = 0\n",
    "    vv = 0\n",
    "    for i in range(u.shape[0]):\n",
    "        uv += u[i]*v[i]\n",
    "        uu += u[i]*u[i]\n",
    "        vv += v[i]*v[i]\n",
    "    cos_theta = 1\n",
    "    if uu!=0 and vv!=0:\n",
    "        cos_theta = uv/np.sqrt(uu*vv)\n",
    "    return cos_theta"
   ]
  },
  {
   "cell_type": "code",
   "execution_count": 2,
   "metadata": {},
   "outputs": [],
   "source": [
    "# LEER UN MODELO DE WORD2VEC\n",
    "\n",
    "model = Word2Vec.load(\"MODELOS/w2v-RESTMEX-opiniones-titulos.model\")\n",
    "\n",
    "# ESTOS SON LOS \"KEYED VECTORS\" (LOS VECTORES)\n",
    "kv = model.wv  "
   ]
  },
  {
   "cell_type": "code",
   "execution_count": 8,
   "metadata": {},
   "outputs": [
    {
     "output_type": "execute_result",
     "data": {
      "text/plain": [
       "['momias', 'demasiado', 'impresionante']"
      ]
     },
     "metadata": {},
     "execution_count": 8
    }
   ],
   "source": [
    "# OBTENER EL VOCABULARIO DEL MODELO\n",
    "\n",
    "vocab = list(kv.key_to_index.keys())\n",
    "vocab[:3]"
   ]
  },
  {
   "cell_type": "code",
   "execution_count": 9,
   "metadata": {},
   "outputs": [
    {
     "output_type": "stream",
     "name": "stdout",
     "text": [
      "(100,)\n[-0.06134131  0.15729733  0.28037494  0.45947722  0.00432189]\n"
     ]
    }
   ],
   "source": [
    "# OBTENER EL EMBEDDING DE UNA PALABRA\n",
    "\n",
    "w = kv.get_vector('impresionante')\n",
    "print(w.shape)\n",
    "print(w[:5])"
   ]
  },
  {
   "cell_type": "code",
   "execution_count": 4,
   "metadata": {},
   "outputs": [
    {
     "output_type": "execute_result",
     "data": {
      "text/plain": [
       "[('increíble', 0.9998050928115845),\n",
       " ('preciosa', 0.9996603727340698),\n",
       " ('apreciar', 0.9996013641357422),\n",
       " ('mejor', 0.9995880126953125),\n",
       " ('maravillosa', 0.9995527267456055),\n",
       " ('arriba', 0.9995437264442444),\n",
       " ('centro', 0.9995236992835999),\n",
       " ('toda', 0.9994968175888062),\n",
       " ('excelente', 0.9994960427284241),\n",
       " ('admirar', 0.9994627237319946)]"
      ]
     },
     "metadata": {},
     "execution_count": 4
    }
   ],
   "source": [
    "# USO DE LA FUNCIÓN \"most_similar\" PARA OBTENER LOS MÁS SIMILARES A UNA PALABRA\n",
    "\n",
    "kv.most_similar('impresionante',topn=10)"
   ]
  },
  {
   "cell_type": "code",
   "execution_count": 23,
   "metadata": {},
   "outputs": [
    {
     "output_type": "stream",
     "name": "stdout",
     "text": [
      "[('faltar', 0.9978828430175781), ('dejar', 0.9978352189064026), ('obligado', 0.9974281191825867)]\nSimilaridad: 0.03436112162249148\nDiferencia: 0.9635217213950866 Similitud: 0.9978828430175781\n"
     ]
    }
   ],
   "source": [
    "# USO DE LA FUNCIÓN \"most_similar\" PARA OBTENER LOS MÁS SIMILARES A UN VECTOR\n",
    "\n",
    "v1 = np.array([1 for x in range(100)])\n",
    "\n",
    "cercanos = kv.most_similar(v1,topn=3)\n",
    "print(cercanos)\n",
    "print(f\"Palabra más similar: {cercanos[0][1]} Similitud: {cercanos[0][1]}\")"
   ]
  },
  {
   "cell_type": "code",
   "execution_count": null,
   "metadata": {},
   "outputs": [],
   "source": []
  }
 ]
}